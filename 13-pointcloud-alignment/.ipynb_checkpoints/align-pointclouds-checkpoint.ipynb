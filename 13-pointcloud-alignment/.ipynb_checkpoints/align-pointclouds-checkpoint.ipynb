{
 "cells": [
  {
   "cell_type": "code",
   "execution_count": 2,
   "metadata": {},
   "outputs": [],
   "source": [
    "# standard python modules for numerical and scientific computing\n",
    "import scipy as sp\n",
    "import scipy.spatial as spatial\n",
    "import numpy as np\n",
    "\n",
    "# 3D mesh visualization\n",
    "import meshplot as mp\n",
    "\n",
    "# python bindings for libigl, a 3D geometry processing library\n",
    "# see https://libigl.github.io/libigl-python-bindings/tutorials/\n",
    "import igl\n",
    "\n",
    "import os\n",
    "os.chdir(\"/home/jovyan/14-differential-geometry\")\n",
    "root_folder = os.getcwd()"
   ]
  },
  {
   "cell_type": "code",
   "execution_count": 4,
   "metadata": {},
   "outputs": [
    {
     "data": {
      "application/vnd.jupyter.widget-view+json": {
       "model_id": "dac4a2ff50c1447d962743b0699e9660",
       "version_major": 2,
       "version_minor": 0
      },
      "text/plain": [
       "Renderer(camera=PerspectiveCamera(children=(DirectionalLight(color='white', intensity=0.6, position=(0.0, 0.0,…"
      ]
     },
     "metadata": {},
     "output_type": "display_data"
    },
    {
     "data": {
      "text/plain": [
       "1"
      ]
     },
     "execution_count": 4,
     "metadata": {},
     "output_type": "execute_result"
    }
   ],
   "source": [
    "# load 3D object\n",
    "v, f = igl.read_triangle_mesh(os.path.join(root_folder, \"data\",\"cow.off\"))\n",
    "\n",
    "# meshplot tutorial see https://skoch9.github.io/meshplot/tutorial/\n",
    "p = mp.plot(v, c=np.tile([1, 0, 0], (v.shape[0],1)), shading={\"point_size\":0.07}, return_plot=True)\n",
    "\n",
    "# make a rotated copy\n",
    "rot = spatial.transform.Rotation.from_euler('y', 45, degrees=True)\n",
    "v_rot = rot.apply(v)\n",
    "p.add_points(v_rot, c=np.tile([0, 1, 0],(v.shape[0],1)), shading={\"point_size\":0.07})"
   ]
  },
  {
   "cell_type": "markdown",
   "metadata": {},
   "source": [
    "### Assignement: Recover the Relative Rotation between the Two Point-clouds\n",
    "\n",
    "Use the method described in the class material using the SVD. Apply the inverse of the recovered rotation to the rotated point cloud and display it together with the original. They should perfectly overlap.\n",
    "\n",
    "The following numpy functions will be useful: `mean`, `matmul`, `transpose`, `linalg.svd`. From `scipy.spatial`, the class `transform.Rotation` will be useful. "
   ]
  },
  {
   "cell_type": "code",
   "execution_count": 5,
   "metadata": {},
   "outputs": [],
   "source": [
    "# zero-mean the point clouds\n",
    "v_zeromean = v - v.mean(0)\n",
    "v_rot_zeromean = v_rot - v_rot.mean(0)\n",
    "# find relative rotation using SVD\n",
    "H = np.matmul(np.transpose(v_zeromean),v_rot_zeromean)\n",
    "U, S, Vt = np.linalg.svd(H)\n",
    "rot_recovered = np.transpose(Vt)@np.transpose(U)\n",
    "rot_recovered = spatial.transform.Rotation.from_matrix(rot_recovered).inv()"
   ]
  },
  {
   "cell_type": "code",
   "execution_count": 6,
   "metadata": {},
   "outputs": [
    {
     "data": {
      "application/vnd.jupyter.widget-view+json": {
       "model_id": "2e27ead46084482784c5fe078c97f512",
       "version_major": 2,
       "version_minor": 0
      },
      "text/plain": [
       "Renderer(camera=PerspectiveCamera(children=(DirectionalLight(color='white', intensity=0.6, position=(-0.025609…"
      ]
     },
     "metadata": {},
     "output_type": "display_data"
    },
    {
     "data": {
      "text/plain": [
       "1"
      ]
     },
     "execution_count": 6,
     "metadata": {},
     "output_type": "execute_result"
    }
   ],
   "source": [
    "p = mp.plot(v_zeromean, c=np.tile([1, 0, 0], (v.shape[0],1)), shading={\"point_size\":0.07}, return_plot=True)\n",
    "\n",
    "# align using recovered rotationS\n",
    "v_aligned = rot_recovered.apply(v_rot_zeromean)\n",
    "p.add_points(v_aligned, c=np.tile([0, 1, 0],(v.shape[0],1)), shading={\"point_size\":0.07})"
   ]
  },
  {
   "cell_type": "code",
   "execution_count": null,
   "metadata": {},
   "outputs": [],
   "source": []
  }
 ],
 "metadata": {
  "kernelspec": {
   "display_name": "Python 3",
   "language": "python",
   "name": "python3"
  },
  "language_info": {
   "codemirror_mode": {
    "name": "ipython",
    "version": 3
   },
   "file_extension": ".py",
   "mimetype": "text/x-python",
   "name": "python",
   "nbconvert_exporter": "python",
   "pygments_lexer": "ipython3",
   "version": "3.7.6"
  }
 },
 "nbformat": 4,
 "nbformat_minor": 4
}

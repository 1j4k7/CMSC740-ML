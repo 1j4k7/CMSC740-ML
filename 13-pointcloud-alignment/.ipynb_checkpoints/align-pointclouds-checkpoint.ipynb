{
 "cells": [
  {
   "cell_type": "code",
   "execution_count": 1,
   "metadata": {},
   "outputs": [],
   "source": [
    "# standard python modules for numerical and scientific computing\n",
    "import scipy as sp\n",
    "import scipy.spatial as spatial\n",
    "import numpy as np\n",
    "\n",
    "# 3D mesh visualization\n",
    "import meshplot as mp\n",
    "\n",
    "# python bindings for libigl, a 3D geometry processing library\n",
    "# see https://libigl.github.io/libigl-python-bindings/tutorials/\n",
    "import igl\n",
    "\n",
    "import os\n",
    "os.chdir(\"/home/jovyan/\")\n",
    "root_folder = os.getcwd()"
   ]
  },
  {
   "cell_type": "code",
   "execution_count": 2,
   "metadata": {},
   "outputs": [
    {
     "data": {
      "application/vnd.jupyter.widget-view+json": {
       "model_id": "ee719ffb5c2b4a23b35ba525b8fd4362",
       "version_major": 2,
       "version_minor": 0
      },
      "text/plain": [
       "Renderer(camera=PerspectiveCamera(children=(DirectionalLight(color='white', intensity=0.6, position=(0.0, 0.0,…"
      ]
     },
     "metadata": {},
     "output_type": "display_data"
    },
    {
     "data": {
      "text/plain": [
       "1"
      ]
     },
     "execution_count": 2,
     "metadata": {},
     "output_type": "execute_result"
    }
   ],
   "source": [
    "# load 3D object\n",
    "v, f = igl.read_triangle_mesh(os.path.join(root_folder, \"data\", \"cow.off\"))\n",
    "\n",
    "# meshplot tutorial see https://skoch9.github.io/meshplot/tutorial/\n",
    "p = mp.plot(v, c=np.tile([1, 0, 0], (v.shape[0],1)), shading={\"point_size\":0.07}, return_plot=True)\n",
    "\n",
    "# make a rotated copy\n",
    "rot = spatial.transform.Rotation.from_euler('y', 45, degrees=True)\n",
    "v_rot = rot.apply(v)\n",
    "p.add_points(v_rot, c=np.tile([0, 1, 0],(v.shape[0],1)), shading={\"point_size\":0.07})"
   ]
  },
  {
   "cell_type": "markdown",
   "metadata": {},
   "source": [
    "### Assignement: Recover the Relative Rotation between the Two Point-clouds\n",
    "\n",
    "Use the method described in the class material using the SVD. Apply the inverse of the recovered rotation to the rotated point cloud and display it together with the original. They should perfectly overlap.\n",
    "\n",
    "The following numpy functions will be useful: `mean`, `matmul`, `transpose`, `linalg.svd`. From `scipy.spatial`, the class `transform.Rotation` will be useful. "
   ]
  },
  {
   "cell_type": "code",
   "execution_count": 3,
   "metadata": {},
   "outputs": [],
   "source": [
    "# your code here"
   ]
  }
 ],
 "metadata": {
  "kernelspec": {
   "display_name": "Python 3",
   "language": "python",
   "name": "python3"
  },
  "language_info": {
   "codemirror_mode": {
    "name": "ipython",
    "version": 3
   },
   "file_extension": ".py",
   "mimetype": "text/x-python",
   "name": "python",
   "nbconvert_exporter": "python",
   "pygments_lexer": "ipython3",
   "version": "3.7.6"
  }
 },
 "nbformat": 4,
 "nbformat_minor": 4
}

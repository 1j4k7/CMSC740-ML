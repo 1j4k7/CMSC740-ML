{
 "cells": [
  {
   "cell_type": "code",
   "execution_count": 1,
   "metadata": {},
   "outputs": [],
   "source": [
    "import igl\n",
    "import scipy as sp\n",
    "import numpy as np\n",
    "import meshplot as mp\n",
    "from scipy.sparse.linalg import spsolve\n",
    "\n",
    "import os\n",
    "\n",
    "os.chdir(\"/home/jovyan\")\n",
    "root_folder = os.getcwd()"
   ]
  },
  {
   "cell_type": "markdown",
   "metadata": {},
   "source": [
    "## Assignment: spectral mesh filtering\n",
    "\n",
    "The goal here is to filter a mesh using the spectral approach discussed in the slides. That is, the mesh is projected onto a limited number of eigenvectors of the Laplacian, which correspond to the low frequencies. Higher frequencies (eigenvectors corresponding to larger eigenvalues) are ignored. \n",
    "\n",
    "Change the code such that in each iteration step, `v_smooth` is a mesh that is filtered using the `n_ev[i]` number of eigenvectors. Note: this can be done in just one line of code."
   ]
  },
  {
   "cell_type": "code",
   "execution_count": 3,
   "metadata": {},
   "outputs": [
    {
     "data": {
      "application/vnd.jupyter.widget-view+json": {
       "model_id": "ba4b3fef512c403d9b97f0ee53b9f2e2",
       "version_major": 2,
       "version_minor": 0
      },
      "text/plain": [
       "Renderer(camera=PerspectiveCamera(children=(DirectionalLight(color='white', intensity=0.6, position=(0.0, 0.0,…"
      ]
     },
     "metadata": {},
     "output_type": "display_data"
    },
    {
     "data": {
      "application/vnd.jupyter.widget-view+json": {
       "model_id": "8bc66bdebf2d4441a9d9624455aeb5d9",
       "version_major": 2,
       "version_minor": 0
      },
      "text/plain": [
       "interactive(children=(IntSlider(value=0, description='level', max=6), Output()), _dom_classes=('widget-interac…"
      ]
     },
     "metadata": {},
     "output_type": "display_data"
    }
   ],
   "source": [
    "# Spectral filtering using uniform Laplacian\n",
    "v, f = igl.read_triangle_mesh(os.path.join(root_folder, \"data\", \"cow.off\"))\n",
    "\n",
    "# uniform Laplacian using the mesh adjacency matrix; this is symmetric, so eigenvectors are orthogonal\n",
    "adj = igl.adjacency_matrix(f)\n",
    "l_unif = adj - sp.sparse.diags(adj.sum(0).A[0,:])\n",
    "\n",
    "# try different numbers of eigenvectors for filtering\n",
    "n_ev = [256,128,64,32,16,8]\n",
    "v_smooth = [v]\n",
    "\n",
    "for i in range(len(n_ev)):\n",
    "    # compute the eigenvectors\n",
    "    ew, ev = sp.sparse.linalg.eigsh(l_unif,n_ev[i],which='SM')\n",
    "    # project the vertex positions onto the basis given by the eigenvectors\n",
    "    # NEED TO REPLACE THE FOLLOWING LINE, WHICH IS JUST A PLACEHOLDER. SEE SLIDE 24\n",
    "    v_smooth.append(ev.dot(ev.T.dot(v)))\n",
    "    \n",
    "p = mp.plot(v_smooth[0], f, return_plot=True)\n",
    "\n",
    "@mp.interact(level=(0, len(n_ev)))\n",
    "def mcf(level=0):\n",
    "    p.update_object(vertices=v_smooth[level])"
   ]
  },
  {
   "cell_type": "markdown",
   "metadata": {},
   "source": [
    "## Assignment: Minimal surface by minimizing Dirichlet energy via the Laplace-Beltrami operator\n",
    "\n",
    "The goal here is to compute a minimal surface under a fixed boundary by minimizing the Dirichlet energy. This can be done by making sure that the Laplace-Beltrami of the surface is zero everywhere in the interior (see slide 9). The algorithm proceeds iteratively, by updating the mesh to set the Laplace-Beltrami to zero, and then recomputing Laplace-Beltrami using the new mesh. For a much more detailed discussion of this approach, see [this paper by Pinkall et al](http://www.cs.jhu.edu/~misha/Fall09/Pinkall93.pdf). \n",
    "\n",
    "Change the code below such that in each step in the loop, the interior vertices `z_in` are computed by solving the [Laplace equation](https://en.wikipedia.org/wiki/Laplace%27s_equation). Follow the [example in the libigl tutorial](https://libigl.github.io/libigl-python-bindings/tutorials/#laplace-equation) that describes how to solve the Laplace equation with boundary conditions."
   ]
  },
  {
   "cell_type": "code",
   "execution_count": 4,
   "metadata": {},
   "outputs": [
    {
     "data": {
      "application/vnd.jupyter.widget-view+json": {
       "model_id": "ce2b38e69a724c67b11a0535b064fef3",
       "version_major": 2,
       "version_minor": 0
      },
      "text/plain": [
       "Renderer(camera=PerspectiveCamera(children=(DirectionalLight(color='white', intensity=0.6, position=(0.0, 0.0,…"
      ]
     },
     "metadata": {},
     "output_type": "display_data"
    },
    {
     "data": {
      "application/vnd.jupyter.widget-view+json": {
       "model_id": "fe5bf36f8cc64c3b8c854f2122a04f7e",
       "version_major": 2,
       "version_minor": 0
      },
      "text/plain": [
       "interactive(children=(IntSlider(value=0, description='level', max=256), Output()), _dom_classes=('widget-inter…"
      ]
     },
     "metadata": {},
     "output_type": "display_data"
    }
   ],
   "source": [
    "## Prepare the geometry first\n",
    "\n",
    "# number of segments\n",
    "n = 51\n",
    "\n",
    "# a grid of s,t values\n",
    "s = np.tile(np.linspace(-1, 1, n, endpoint=True),(n,1)).reshape(n*n,1)\n",
    "t = np.tile(np.linspace(-1, 1, n, endpoint=True),(n,1)).transpose().reshape(n*n,1)\n",
    "\n",
    "# 2D indices for vertices, reshaped into 1D arrays\n",
    "ind_s = np.tile(np.arange(n-1),(n-1,1)).reshape((n-1)*(n-1),1)\n",
    "ind_t = np.tile(np.arange(n-1),(n-1,1)).transpose().reshape((n-1)*(n-1),1)\n",
    "\n",
    "# triangle connectivity\n",
    "f_0 = np.concatenate((ind_s*n+ind_t, ind_s*n+ind_t+1, (ind_s+1)*n+ind_t),1)\n",
    "f_1 = np.concatenate((ind_s*n+ind_t+1, (ind_s+1)*n+ind_t+1, (ind_s+1)*n+ind_t),1)\n",
    "f = np.concatenate((f_0, f_1),0)\n",
    "\n",
    "# vertex positions on a plane\n",
    "x = s\n",
    "y = t\n",
    "z = np.zeros(s.shape)\n",
    "v = np.concatenate((x,y,z),1)\n",
    "\n",
    "# get indices of boundary vertices\n",
    "v_b = np.unique(igl.boundary_facets(f))\n",
    "\n",
    "# set some (non-planar) boundary conditions\n",
    "v[v_b[s[v_b,0]>0.0],2] = np.abs(s[v_b[s[v_b,0]>0.0],0])\n",
    "v[v_b[s[v_b,0]<0.0],2] = np.abs(s[v_b[s[v_b,0]<0.0],0])\n",
    "\n",
    "## Minimal surface computation\n",
    "\n",
    "# list of all vertex indices\n",
    "v_all = np.arange(v.shape[0])\n",
    "\n",
    "# list of interior indices\n",
    "v_in = np.setdiff1d(v_all, v_b)\n",
    "\n",
    "# iteration steps\n",
    "v_min = [v.copy()]\n",
    "steps = 256\n",
    "for i in range(steps):\n",
    "    # Laplace-Beltrami of current mesh\n",
    "    l = igl.cotmatrix(v, f)\n",
    "    \n",
    "    # UPDATE THE MESH VERTICES HERE BY SOLVING THE LAPLACE EQUATION WITH BOUNDARY CONDITIONS\n",
    "    # SEE https://libigl.github.io/libigl-python-bindings/tutorials/#laplace-equation\n",
    "    # YOUR CODE HERE...\n",
    "    l_ii = l[v_in, :]\n",
    "    l_ii = l_ii[:, v_in]\n",
    "    l_ib = l[v_in, :]\n",
    "    l_ib = l_ib[:, v_b]\n",
    "    z = v[:, 2]\n",
    "    bc = z[v_b]\n",
    "    z_in = spsolve(-l_ii, l_ib.dot(bc))\n",
    "    v[v_in,2] = z_in\n",
    "    \n",
    "    # v are now the updated vertex positions; append them for visualization\n",
    "    v_min.append(v.copy())\n",
    "        \n",
    "p = mp.plot(v_min[0], f, return_plot=True)\n",
    "\n",
    "@mp.interact(level=(0, steps))\n",
    "def mcf(level=0):\n",
    "    p.update_object(vertices=v_min[level])"
   ]
  },
  {
   "cell_type": "code",
   "execution_count": null,
   "metadata": {},
   "outputs": [],
   "source": []
  }
 ],
 "metadata": {
  "kernelspec": {
   "display_name": "Python 3",
   "language": "python",
   "name": "python3"
  },
  "language_info": {
   "codemirror_mode": {
    "name": "ipython",
    "version": 3
   },
   "file_extension": ".py",
   "mimetype": "text/x-python",
   "name": "python",
   "nbconvert_exporter": "python",
   "pygments_lexer": "ipython3",
   "version": "3.7.6"
  }
 },
 "nbformat": 4,
 "nbformat_minor": 4
}

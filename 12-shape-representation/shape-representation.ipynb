{
 "cells": [
  {
   "cell_type": "code",
   "execution_count": 1,
   "metadata": {},
   "outputs": [],
   "source": [
    "# standard python libraries for numerical and scientific computing\n",
    "# numpy reference at https://docs.scipy.org/doc/numpy-1.3.x/reference/index.html#reference\n",
    "# scipy reference at https://docs.scipy.org/doc/scipy-1.4.1/reference/\n",
    "import scipy as sp\n",
    "import numpy as np\n",
    "\n",
    "# meshplot for 3D visualization\n",
    "# see tutorials at https://skoch9.github.io/meshplot/tutorial/\n",
    "import meshplot as mp"
   ]
  },
  {
   "cell_type": "code",
   "execution_count": 2,
   "metadata": {},
   "outputs": [
    {
     "data": {
      "application/vnd.jupyter.widget-view+json": {
       "model_id": "9e2d78e894fa41b6aca2b66275c74dd7",
       "version_major": 2,
       "version_minor": 0
      },
      "text/plain": [
       "Renderer(camera=PerspectiveCamera(children=(DirectionalLight(color='white', intensity=0.6, position=(0.5, 0.5,…"
      ]
     },
     "metadata": {},
     "output_type": "display_data"
    }
   ],
   "source": [
    "# a cube example \n",
    "# note: the example on the slides (from https://en.wikipedia.org/wiki/Polygon_mesh) actually has a small bug that is fixed here\n",
    "v = np.array(((0,0,0),(1,0,0),(1,1,0),(0,1,0),(0,0,1),(1,0,1),(1,1,1),(0,1,1),(0.5,0.5,0),(0.5,0.5,1)))\n",
    "f = np.array(((0,4,5),(0,5,1),(1,5,6),(1,6,2),(2,6,7),(2,7,3),(3,7,4),(3,4,0),(8,0,1),(8,1,2),(8,2,3),(8,3,0),(9,5,4),(9,6,5),(9,7,6),(9,4,7)))\n",
    "\n",
    "# use the mouse to rotate the 3D cube\n",
    "mp.plot(v, f)"
   ]
  },
  {
   "cell_type": "markdown",
   "metadata": {},
   "source": [
    "### Assignment: Make a Triangle Mesh for a Sphere and Display it with Meshplot\n",
    "\n",
    "Use the parametric representation of a unit sphere centered at the origin,\n",
    "\n",
    "\\begin{align}\n",
    "x &= sin\\theta \\cos\\phi, \\\\\n",
    "y &= sin\\theta \\sin\\phi, \\quad 0\\leq\\theta\\leq\\pi, 0\\leq\\phi\\leq 2\\pi, \\\\\n",
    "z &= cos\\theta.\n",
    "\\end{align}\n",
    "\n",
    "Use the arrays of $\\theta$ and $\\phi$ values below to compute vertex positions by evaluating the equations above.  Then, make an array for the triangle connectivity similar as in the cube example above.\n",
    "\n",
    "You may find the following numpy functions useful: `linspace`, `tile`, `reshape`, `transpose`, and `concatenate`. Use the meshplot `plot` function to visualize your sphere. Test it with different values for `n`.\n"
   ]
  },
  {
   "cell_type": "code",
   "execution_count": 3,
   "metadata": {},
   "outputs": [
    {
     "data": {
      "application/vnd.jupyter.widget-view+json": {
       "model_id": "92c6fb3ba6964ec48b1de89ffae98370",
       "version_major": 2,
       "version_minor": 0
      },
      "text/plain": [
       "Renderer(camera=PerspectiveCamera(children=(DirectionalLight(color='white', intensity=0.6, position=(2.4735927…"
      ]
     },
     "metadata": {},
     "output_type": "display_data"
    }
   ],
   "source": [
    "# a sphere\n",
    "#number of segments\n",
    "n = 1000\n",
    "\n",
    "# spherical coordinates for vertices/points, reshaped into 1D arrays\n",
    "phi = np.tile(np.linspace(0, 2*np.pi, n, endpoint=True),(n,1)).reshape(n*n,1)\n",
    "theta = np.tile(np.linspace(0, np.pi, n, endpoint=True),(n,1)).transpose().reshape(n*n,1)\n",
    "\n",
    "x = np.sin(theta) * np.cos(phi)\n",
    "y = np.sin(theta) * np.sin(phi)\n",
    "z = np.cos(theta)\n",
    "# vertex positions on sphere\n",
    "v = np.concatenate((x,y,z), axis=1)\n",
    "# store them in v\n",
    "\n",
    "# triangle connectivity\n",
    "f = []\n",
    "for i in range(n-1):\n",
    "    for j in range(n-1):\n",
    "        f.append((n*i+j, n*(i+1)+j, n*(i+1)+j+1))\n",
    "        f.append((n*i+j, n*i+j+1, n*(i+1)+j+1))\n",
    "f = np.array([f], ndmin=2)\n",
    "# store in f\n",
    "# plot mesh\n",
    "mp.plot(v,f)\n"
   ]
  },
  {
   "cell_type": "markdown",
   "metadata": {},
   "source": [
    "### Assignment: Sample Points on the Implicit Sphere\n",
    "\n",
    "Evaluate the implicit function of a unit sphere at the origin\n",
    "\n",
    "\\begin{align}\n",
    "x^2+y^2+z^2-1\n",
    "\\end{align}\n",
    "\n",
    "at a set of random points $x,y,z$. Extract the points where the function values are smaller than a threshold $\\epsilon$, and visualize them using meshplot `plot`.\n",
    "\n",
    "You may find the following numpy function useful: `extract`."
   ]
  },
  {
   "cell_type": "code",
   "execution_count": 4,
   "metadata": {},
   "outputs": [
    {
     "data": {
      "application/vnd.jupyter.widget-view+json": {
       "model_id": "ada1d71f71264e8899eac50a16c4543e",
       "version_major": 2,
       "version_minor": 0
      },
      "text/plain": [
       "Renderer(camera=PerspectiveCamera(children=(DirectionalLight(color='white', intensity=0.6, position=(-4.798173…"
      ]
     },
     "metadata": {},
     "output_type": "display_data"
    }
   ],
   "source": [
    "# sample points on sphere using implicit function\n",
    "\n",
    "# generate random points in unit cube\n",
    "n = 100000000\n",
    "eps = 0.0001\n",
    "p = np.random.rand(n,3)*2-1\n",
    "# extract points fom p that are within eps of the sphere\n",
    "condition = np.abs(np.sum(p**2, axis=1) - 1) < eps\n",
    "#p = np.extract(condition, p)\n",
    "p = p[condition]\n",
    "# store points in p\n",
    "\n",
    "# plot points\n",
    "mp.plot(p, shading={\"point_size\":0.2})"
   ]
  },
  {
   "cell_type": "code",
   "execution_count": null,
   "metadata": {},
   "outputs": [],
   "source": []
  }
 ],
 "metadata": {
  "kernelspec": {
   "display_name": "Python 3",
   "language": "python",
   "name": "python3"
  },
  "language_info": {
   "codemirror_mode": {
    "name": "ipython",
    "version": 3
   },
   "file_extension": ".py",
   "mimetype": "text/x-python",
   "name": "python",
   "nbconvert_exporter": "python",
   "pygments_lexer": "ipython3",
   "version": "3.7.6"
  }
 },
 "nbformat": 4,
 "nbformat_minor": 4
}

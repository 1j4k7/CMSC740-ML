{
 "cells": [
  {
   "cell_type": "code",
   "execution_count": 1,
   "metadata": {},
   "outputs": [],
   "source": [
    "import igl\n",
    "import scipy as sp\n",
    "import scipy.spatial as spatial\n",
    "import numpy as np\n",
    "import meshplot as mp\n",
    "from scipy.spatial.transform import Rotation as R\n",
    "from scipy.spatial.transform import Slerp\n",
    "\n",
    "import os\n",
    "\n",
    "os.chdir(\"/home/jovyan/\")\n",
    "root_folder = os.getcwd()"
   ]
  },
  {
   "cell_type": "markdown",
   "metadata": {},
   "source": [
    "## Shape deformation using the Bi-Laplacian\n",
    "\n",
    "The code below implements shape deformation by minimizing the bending energy using bi-harmonic displacement functions, that is, a displacement function whose Bi-Laplacian (Laplace of Laplace) is zero everywhere. You will notice that `igl` has a built-in function `harmonic_weights` to perform handle-based deformation using this approach. See also the [relevant chapter in the libigl tutorial](https://libigl.github.io/libigl-python-bindings/tutorials/#chapter-3-shape-deformation), where the code below is from.\n",
    "\n",
    "## Assignment\n",
    "\n",
    "Answer the following questions about the code below in a few sentences each:\n",
    "- What do the red, purple, and green colored areas on the mesh indicate? How are these regions related to the system of equations shown in slide 13 from today's class?\n",
    "- What is the meaning of the last parameter of `igl.harmonic_weights`? How is it related to the visualization on slide 12? Describe intuitively what type of results you get when you set the parameter to either 1 or 2.\n",
    "- Describe the difference between whether the \"deformation field\" box is checked or not. In particular, how is this related to the visualization on slide 12?\n",
    "- Explain one disadvantage of this approach to compute shape deformations."
   ]
  },
  {
   "cell_type": "markdown",
   "metadata": {},
   "source": [
    "Answers:\n",
    " - The red, purple and green areas are handles. In the code, red is handle 0 which does not move, purple is handle 1 which moves down, and green is the other handle which moves forward. These regions are analogous to the green region in slide 13 which forms the positional constraints in the right side of the equation, the $h_i$'s\n",
    " - The last parameter indicates the power of the harmonic operation, so 2 is biharmonic whereas 1 is harmonic. This relates to slide 12 since the middle set of images on that slide correspond with a parameter of 1 and the right set of images correspond with a parameter of 2. So, intuitively, 1 minimizes surface area (which becomes very clear when deformation field is turned off) and 2 minimizes bending.\n",
    " - The deformation field indicates whether we do the calculations with a deformation function or on the vertex positions directly. On slide 12, the bottom row corresponds to having the box checked and the top row corresponds to having the box unchecked.\n",
    " - This approach, since it's linear, does not always accurately represent natural behavior. For example, if the handle only translates, the solution will only translate. As described in the slides, this can cause the output to not rotate even though it naturally should."
   ]
  },
  {
   "cell_type": "code",
   "execution_count": 3,
   "metadata": {},
   "outputs": [
    {
     "data": {
      "application/vnd.jupyter.widget-view+json": {
       "model_id": "50925134812c48649a0d04c5c1646bd4",
       "version_major": 2,
       "version_minor": 0
      },
      "text/plain": [
       "Renderer(camera=PerspectiveCamera(children=(DirectionalLight(color='white', intensity=0.6, position=(82.297483…"
      ]
     },
     "metadata": {},
     "output_type": "display_data"
    },
    {
     "data": {
      "application/vnd.jupyter.widget-view+json": {
       "model_id": "ef2fb9c7ccda4f37b733e43eb549804f",
       "version_major": 2,
       "version_minor": 0
      },
      "text/plain": [
       "interactive(children=(Checkbox(value=True, description='deformation_field'), FloatSlider(value=0.0, descriptio…"
      ]
     },
     "metadata": {},
     "output_type": "display_data"
    }
   ],
   "source": [
    "v, f = igl.read_triangle_mesh(os.path.join(root_folder, \"data\", \"decimated-max.obj\"))\n",
    "v[:,[0, 2]] = v[:,[2, 0]] # Swap X and Z axes\n",
    "u = v.copy()\n",
    "\n",
    "s = igl.read_dmat(os.path.join(root_folder, \"data\", \"decimated-max-selection.dmat\"))\n",
    "b = np.array([[t[0] for t in [(i, s[i]) for i in range(0, v.shape[0])] if t[1] >= 0]]).T\n",
    "\n",
    "## Boundary conditions directly on deformed positions\n",
    "u_bc = np.zeros((b.shape[0], v.shape[1]))\n",
    "v_bc = np.zeros((b.shape[0], v.shape[1]))\n",
    "\n",
    "for bi in range(b.shape[0]):\n",
    "    v_bc[bi] = v[b[bi]]\n",
    "\n",
    "    if s[b[bi]] == 0: # Don't move handle 0\n",
    "        u_bc[bi] = v[b[bi]]\n",
    "    elif s[b[bi]] == 1: # Move handle 1 down\n",
    "        u_bc[bi] = v[b[bi]] + np.array([[0, -50, 0]])\n",
    "    else: # Move other handles forward\n",
    "        u_bc[bi] = v[b[bi]] + np.array([[-25, 0, 0]])\n",
    "\n",
    "p = mp.plot(v, f, s, shading={\"wireframe\": False, \"colormap\": \"tab10\"}, return_plot=True)\n",
    "\n",
    "@mp.interact(deformation_field=True, step=(0.0, 2.0))\n",
    "def update(deformation_field, step=0.0):\n",
    "    # Determine boundary conditions\n",
    "    u_bc_anim = v_bc + step * (u_bc - v_bc)\n",
    "\n",
    "    if deformation_field:\n",
    "        d_bc = u_bc_anim - v_bc\n",
    "        d = igl.harmonic_weights(v, f, b, d_bc, 2)\n",
    "        u = v + d\n",
    "    else:\n",
    "        u = igl.harmonic_weights(v, f, b, u_bc_anim, 2)\n",
    "    p.update_object(vertices=u)"
   ]
  },
  {
   "cell_type": "markdown",
   "metadata": {},
   "source": [
    "## Interpolating Rotations\n",
    "\n",
    "The code below interpolates between a rotation around the y-axis by 0 and 180 degrees by linearly interpolating the two rotation matrices, which clearly leads to artifacts (move the slider to rotate the cow).\n",
    "\n",
    "## Assignment\n",
    "\n",
    "Change the code to interpolate the rotations using spherical linear interpolation (SLERP). Note that you can represent rotations as quaternions using [scipy.spatial.transform.Rotation](https://docs.scipy.org/doc/scipy/reference/generated/scipy.spatial.transform.Rotation.html). Scipy also provides an [implementation of SLERP](https://docs.scipy.org/doc/scipy/reference/generated/scipy.spatial.transform.Slerp.html). You need to solve this assignment without using the built-in function, but you may check correctness of your approach by comparing to it."
   ]
  },
  {
   "cell_type": "code",
   "execution_count": 4,
   "metadata": {},
   "outputs": [
    {
     "data": {
      "application/vnd.jupyter.widget-view+json": {
       "model_id": "ef6945102410451f928a7475d0983b72",
       "version_major": 2,
       "version_minor": 0
      },
      "text/plain": [
       "Renderer(camera=PerspectiveCamera(children=(DirectionalLight(color='white', intensity=0.6, position=(0.0, 0.0,…"
      ]
     },
     "metadata": {},
     "output_type": "display_data"
    },
    {
     "data": {
      "application/vnd.jupyter.widget-view+json": {
       "model_id": "d3f9fceaaf7d4fc484ba5d9aaa225770",
       "version_major": 2,
       "version_minor": 0
      },
      "text/plain": [
       "interactive(children=(IntSlider(value=0, description='t'), Output()), _dom_classes=('widget-interact',))"
      ]
     },
     "metadata": {},
     "output_type": "display_data"
    }
   ],
   "source": [
    "v, f = igl.read_triangle_mesh(os.path.join(root_folder, \"data\", \"cow.off\"))\n",
    "steps = 100\n",
    "\n",
    "# Using scipy's SLERP for comparison\n",
    "rots = R.from_euler('y',[0,180],degrees=True)\n",
    "slerp = Slerp([0,100], rots)\n",
    "interp_rots = slerp(list(range(100)))\n",
    "\n",
    "rot_0 = np.eye(3)\n",
    "rot_1 = spatial.transform.Rotation.from_euler('y', 180, degrees=True)\n",
    "\n",
    "# Can precalculate properties of the rotation quaternions (only do it for q_1 since q_0 is identity)\n",
    "rotvec = rot_1.as_rotvec()\n",
    "omega = sp.linalg.norm(rotvec) / 2\n",
    "r = rotvec / (omega * 2)\n",
    "v_rot = [v]\n",
    "for i in range(steps):\n",
    "    #t = i/(steps-1) # Bug in the original code I think (step 0 and step 1 were equal)\n",
    "    t = (i+1)/(steps-1)\n",
    "    rotquat_t = np.concatenate((r*np.sin(t*omega),[np.cos(t*omega)]))\n",
    "    rot_t = R.from_quat(rotquat_t)\n",
    "    rotmat_t = rot_t.as_matrix()\n",
    "    #rotmat_t = interp_rots[i].as_matrix()\n",
    "    v_t = v@rotmat_t\n",
    "    v_rot.append(v_t)\n",
    "\n",
    "p = mp.plot(v_rot[0], f, return_plot=True)\n",
    "\n",
    "@mp.interact(t=(0, steps))\n",
    "def mcf(t=0):\n",
    "    p.update_object(vertices=v_rot[t])"
   ]
  },
  {
   "cell_type": "code",
   "execution_count": null,
   "metadata": {},
   "outputs": [],
   "source": []
  }
 ],
 "metadata": {
  "kernelspec": {
   "display_name": "Python 3",
   "language": "python",
   "name": "python3"
  },
  "language_info": {
   "codemirror_mode": {
    "name": "ipython",
    "version": 3
   },
   "file_extension": ".py",
   "mimetype": "text/x-python",
   "name": "python",
   "nbconvert_exporter": "python",
   "pygments_lexer": "ipython3",
   "version": "3.7.6"
  }
 },
 "nbformat": 4,
 "nbformat_minor": 4
}

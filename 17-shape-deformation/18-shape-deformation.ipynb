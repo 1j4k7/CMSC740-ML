{
 "cells": [
  {
   "cell_type": "code",
   "execution_count": 1,
   "metadata": {},
   "outputs": [],
   "source": [
    "import igl\n",
    "import scipy as sp\n",
    "import scipy.spatial as spatial\n",
    "import numpy as np\n",
    "import meshplot as mp\n",
    "\n",
    "import os\n",
    "\n",
    "os.chdir(\"/home/jovyan/16-differential-geometry\")\n",
    "root_folder = os.getcwd()"
   ]
  },
  {
   "cell_type": "markdown",
   "metadata": {},
   "source": [
    "## Shape deformation using the Bi-Laplacian\n",
    "\n",
    "The code below implements shape deformation by minimizing the bending energy using bi-harmonic displacement functions, that is, a displacement function whose Bi-Laplacian (Laplace of Laplace) is zero everywhere. You will notice that `igl` has a built-in function `harmonic_weights` to perform handle-based deformation using this approach. See also the [relevant chapter in the libigl tutorial](https://libigl.github.io/libigl-python-bindings/tutorials/#chapter-3-shape-deformation), where the code below is from.\n",
    "\n",
    "## Assignment\n",
    "\n",
    "Answer the following questions about the code below in a few sentences each:\n",
    "- What do the red, purple, and green colored areas on the mesh indicate? How are these regions related to the system of equations shown in slide 13 from today's class?\n",
    "- What is the meaning of the last parameter of `igl.harmonic_weights`? How is it related to the visualization on slide 12? Describe intuitively what type of results you get when you set the parameter to either 1 or 2.\n",
    "- Describe the difference between whether the \"deformation field\" box is checked or not. In particular, how is this related to the visualization on slide 12?\n",
    "- Explain one disadvantage of this approach to compute shape deformations."
   ]
  },
  {
   "cell_type": "code",
   "execution_count": 2,
   "metadata": {},
   "outputs": [
    {
     "data": {
      "application/vnd.jupyter.widget-view+json": {
       "model_id": "37c46d579eb948e784cb6aca03ac9760",
       "version_major": 2,
       "version_minor": 0
      },
      "text/plain": [
       "Renderer(camera=PerspectiveCamera(children=(DirectionalLight(color='white', intensity=0.6, position=(82.297483…"
      ]
     },
     "metadata": {},
     "output_type": "display_data"
    },
    {
     "data": {
      "application/vnd.jupyter.widget-view+json": {
       "model_id": "4ee1e199b25f47528f07992d89ecc619",
       "version_major": 2,
       "version_minor": 0
      },
      "text/plain": [
       "interactive(children=(Checkbox(value=True, description='deformation_field'), FloatSlider(value=0.0, descriptio…"
      ]
     },
     "metadata": {},
     "output_type": "display_data"
    }
   ],
   "source": [
    "v, f = igl.read_triangle_mesh(os.path.join(root_folder, \"data\", \"decimated-max.obj\"))\n",
    "v[:,[0, 2]] = v[:,[2, 0]] # Swap X and Z axes\n",
    "u = v.copy()\n",
    "\n",
    "s = igl.read_dmat(os.path.join(root_folder, \"data\", \"decimated-max-selection.dmat\"))\n",
    "b = np.array([[t[0] for t in [(i, s[i]) for i in range(0, v.shape[0])] if t[1] >= 0]]).T\n",
    "\n",
    "## Boundary conditions directly on deformed positions\n",
    "u_bc = np.zeros((b.shape[0], v.shape[1]))\n",
    "v_bc = np.zeros((b.shape[0], v.shape[1]))\n",
    "\n",
    "for bi in range(b.shape[0]):\n",
    "    v_bc[bi] = v[b[bi]]\n",
    "\n",
    "    if s[b[bi]] == 0: # Don't move handle 0\n",
    "        u_bc[bi] = v[b[bi]]\n",
    "    elif s[b[bi]] == 1: # Move handle 1 down\n",
    "        u_bc[bi] = v[b[bi]] + np.array([[0, -50, 0]])\n",
    "    else: # Move other handles forward\n",
    "        u_bc[bi] = v[b[bi]] + np.array([[-25, 0, 0]])\n",
    "\n",
    "p = mp.plot(v, f, s, shading={\"wireframe\": False, \"colormap\": \"tab10\"}, return_plot=True)\n",
    "\n",
    "@mp.interact(deformation_field=True, step=(0.0, 2.0))\n",
    "def update(deformation_field, step=0.0):\n",
    "    # Determine boundary conditions\n",
    "    u_bc_anim = v_bc + step * (u_bc - v_bc)\n",
    "\n",
    "    if deformation_field:\n",
    "        d_bc = u_bc_anim - v_bc\n",
    "        d = igl.harmonic_weights(v, f, b, d_bc, 2)\n",
    "        u = v + d\n",
    "    else:\n",
    "        u = igl.harmonic_weights(v, f, b, u_bc_anim, 2)\n",
    "    p.update_object(vertices=u)"
   ]
  },
  {
   "cell_type": "markdown",
   "metadata": {},
   "source": [
    "## Interpolating Rotations\n",
    "\n",
    "The code below interpolates between a rotation around the y-axis by 0 and 180 degrees by linearly interpolating the two rotation matrices, which clearly leads to artifacts (move the slider to rotate the cow).\n",
    "\n",
    "## Assignment\n",
    "\n",
    "Change the code to interpolate the rotations using spherical linear interpolation (SLERP). Note that you can represent rotations as quaternions using [scipy.spatial.transform.Rotation](https://docs.scipy.org/doc/scipy/reference/generated/scipy.spatial.transform.Rotation.html). Scipy also provides an [implementation of SLERP](https://docs.scipy.org/doc/scipy/reference/generated/scipy.spatial.transform.Slerp.html). You need to solve this assignment without using the built-in function, but you may check correctness of your approach by comparing to it."
   ]
  },
  {
   "cell_type": "code",
   "execution_count": 3,
   "metadata": {},
   "outputs": [
    {
     "data": {
      "application/vnd.jupyter.widget-view+json": {
       "model_id": "6f30e2face18400494620ab60b944982",
       "version_major": 2,
       "version_minor": 0
      },
      "text/plain": [
       "Renderer(camera=PerspectiveCamera(children=(DirectionalLight(color='white', intensity=0.6, position=(0.0, 0.0,…"
      ]
     },
     "metadata": {},
     "output_type": "display_data"
    },
    {
     "data": {
      "application/vnd.jupyter.widget-view+json": {
       "model_id": "1224d7c2e8ea46c4b7dfb4bd4aef3f99",
       "version_major": 2,
       "version_minor": 0
      },
      "text/plain": [
       "interactive(children=(IntSlider(value=0, description='t'), Output()), _dom_classes=('widget-interact',))"
      ]
     },
     "metadata": {},
     "output_type": "display_data"
    }
   ],
   "source": [
    "v, f = igl.read_triangle_mesh(os.path.join(root_folder, \"data\", \"cow.off\"))\n",
    "\n",
    "rot_0 = np.eye(3)\n",
    "rot_1 = spatial.transform.Rotation.from_euler('y', 180, degrees=True).as_matrix()\n",
    "\n",
    "steps = 100\n",
    "v_rot = [v]\n",
    "for i in range(steps):\n",
    "    t = i/(steps-1)\n",
    "    rotmat_t = (1-t)*rot_0+t*rot_1\n",
    "    v_t = v@rotmat_t\n",
    "    v_rot.append(v_t)\n",
    "        \n",
    "p = mp.plot(v_rot[0], f, return_plot=True)\n",
    "\n",
    "@mp.interact(t=(0, steps))\n",
    "def mcf(t=0):\n",
    "    p.update_object(vertices=v_rot[t])"
   ]
  }
 ],
 "metadata": {
  "kernelspec": {
   "display_name": "Python 3",
   "language": "python",
   "name": "python3"
  },
  "language_info": {
   "codemirror_mode": {
    "name": "ipython",
    "version": 3
   },
   "file_extension": ".py",
   "mimetype": "text/x-python",
   "name": "python",
   "nbconvert_exporter": "python",
   "pygments_lexer": "ipython3",
   "version": "3.7.6"
  }
 },
 "nbformat": 4,
 "nbformat_minor": 4
}
